{
 "cells": [
  {
   "cell_type": "markdown",
   "metadata": {},
   "source": [
    "# MNIST CNN \n",
    "\n",
    "The goal of this notebook is to show images as Datas, hence justifies the introduction of NoSQL dbs, to store and treat them as Datas. \n",
    "\n",
    "## Load images"
   ]
  },
  {
   "cell_type": "code",
   "execution_count": 1,
   "metadata": {
    "ExecuteTime": {
     "end_time": "2020-08-25T10:24:40.812486Z",
     "start_time": "2020-08-25T10:24:37.116214Z"
    }
   },
   "outputs": [
    {
     "name": "stdout",
     "output_type": "stream",
     "text": [
      "Train: X=(60000, 28, 28), y=(60000,)\n",
      "Test: X=(10000, 28, 28), y=(10000,)\n"
     ]
    }
   ],
   "source": [
    "# example of loading the mnist dataset\n",
    "from tensorflow.keras.datasets import mnist\n",
    "import matplotlib.pyplot as plt \n",
    "\n",
    "# load dataset\n",
    "(trainX, trainy), (testX, testy) = mnist.load_data()\n",
    "\n",
    "# summarize loaded dataset\n",
    "print('Train: X=%s, y=%s' % (trainX.shape, trainy.shape))\n",
    "print('Test: X=%s, y=%s' % (testX.shape, testy.shape))"
   ]
  },
  {
   "cell_type": "markdown",
   "metadata": {},
   "source": [
    "## Visualize them"
   ]
  },
  {
   "cell_type": "code",
   "execution_count": 2,
   "metadata": {
    "ExecuteTime": {
     "end_time": "2020-08-25T10:24:41.760339Z",
     "start_time": "2020-08-25T10:24:40.816933Z"
    }
   },
   "outputs": [
    {
     "data": {
      "image/png": "[encoded data removed]",
      "text/plain": [
       "<Figure size 432x288 with 9 Axes>"
      ]
     },
     "metadata": {
      "needs_background": "light"
     },
     "output_type": "display_data"
    }
   ],
   "source": [
    "# plot first few images\n",
    "for i in range(9):\n",
    "    # define subplot\n",
    "    plt.subplot(330 + 1 + i)\n",
    "    # plot raw pixel data\n",
    "    plt.imshow(trainX[i], cmap=plt.get_cmap('gray'))\n",
    "# show the figure\n",
    "plt.show()"
   ]
  },
  {
   "cell_type": "markdown",
   "metadata": {},
   "source": [
    "# Deep Learning CNN From Scratch\n",
    "\n",
    "## Libraries"
   ]
  },
  {
   "cell_type": "code",
   "execution_count": 3,
   "metadata": {
    "ExecuteTime": {
     "end_time": "2020-08-25T10:24:42.273995Z",
     "start_time": "2020-08-25T10:24:41.765277Z"
    }
   },
   "outputs": [],
   "source": [
    "# save the final model to file\n",
    "import numpy as np\n",
    "import pandas as pd\n",
    "from tensorflow.keras.datasets import mnist\n",
    "from tensorflow.keras.utils import to_categorical\n",
    "from tensorflow.keras.models import Sequential, load_model\n",
    "from tensorflow.keras.layers import Conv2D, MaxPooling2D, Dense, Flatten\n",
    "from tensorflow.keras.optimizers import SGD\n",
    "from sklearn.metrics import confusion_matrix"
   ]
  },
  {
   "cell_type": "markdown",
   "metadata": {},
   "source": [
    "## Functions"
   ]
  },
  {
   "cell_type": "code",
   "execution_count": 4,
   "metadata": {
    "ExecuteTime": {
     "end_time": "2020-08-25T10:24:42.285511Z",
     "start_time": "2020-08-25T10:24:42.276998Z"
    }
   },
   "outputs": [],
   "source": [
    "# load train and test dataset\n",
    "def load_dataset():\n",
    "    \n",
    "    # load dataset\n",
    "    (trainX, trainY), (testX, testY) = mnist.load_data()\n",
    "    \n",
    "    # reshape dataset to have a single channel\n",
    "    trainX = trainX.reshape((trainX.shape[0], 28, 28, 1))\n",
    "    testX = testX.reshape((testX.shape[0], 28, 28, 1))\n",
    "    \n",
    "    # one hot encode target values\n",
    "    trainY = to_categorical(trainY)    # 3 --> [0,0,0,1,0,0,0,0,0,0]\n",
    "    testY = to_categorical(testY)\n",
    "    \n",
    "    return trainX, trainY, testX, testY"
   ]
  },
  {
   "cell_type": "code",
   "execution_count": 5,
   "metadata": {
    "ExecuteTime": {
     "end_time": "2020-08-25T10:24:42.299589Z",
     "start_time": "2020-08-25T10:24:42.290955Z"
    }
   },
   "outputs": [],
   "source": [
    "# scale pixels -- Mnist is made of integer between 0 and 255 in greyscale\n",
    "# we want them better, to find their best characteristic\n",
    "def prep_pixels(train, test):\n",
    "    \n",
    "    # convert from integers to floats\n",
    "    train_norm = train.astype('float32')\n",
    "    test_norm = test.astype('float32')\n",
    "    \n",
    "    # normalize to range 0-1\n",
    "    train_norm = train_norm / 255.0\n",
    "    test_norm = test_norm / 255.0\n",
    "    \n",
    "    # return normalized images\n",
    "    return train_norm, test_norm"
   ]
  },
  {
   "cell_type": "markdown",
   "metadata": {},
   "source": [
    "## Model Definition"
   ]
  },
  {
   "cell_type": "code",
   "execution_count": 6,
   "metadata": {
    "ExecuteTime": {
     "end_time": "2020-08-25T10:24:42.315961Z",
     "start_time": "2020-08-25T10:24:42.303098Z"
    }
   },
   "outputs": [],
   "source": [
    "# define cnn model using Keras\n",
    "def define_model(two_layers=True):\n",
    "    if two_layers:\n",
    "        # First initialize it\n",
    "        model = Sequential()\n",
    "        # Adding layers\n",
    "        model.add(Conv2D(32, (3, 3), activation='relu', kernel_initializer='he_uniform', input_shape=(28, 28, 1)))\n",
    "        model.add(MaxPooling2D((2, 2)))\n",
    "        model.add(Conv2D(64, (3, 3), activation='relu', kernel_initializer='he_uniform'))\n",
    "        model.add(MaxPooling2D((2, 2)))\n",
    "        model.add(Flatten())\n",
    "        model.add(Dense(128, activation='relu', kernel_initializer='he_uniform'))\n",
    "        model.add(Dense(10, activation='softmax'))\n",
    "    else:\n",
    "        model = Sequential()\n",
    "        model.add(Conv2D(32, (3, 3), activation='relu', kernel_initializer='he_uniform', input_shape=(28, 28, 1)))\n",
    "        model.add(MaxPooling2D((2, 2)))\n",
    "        model.add(Flatten())\n",
    "        model.add(Dense(100, activation='relu', kernel_initializer='he_uniform'))\n",
    "        model.add(Dense(10, activation='softmax'))\n",
    "    # compile the result\n",
    "    opt = SGD(lr=0.01, momentum=0.9)\n",
    "    model.compile(optimizer=opt, loss='categorical_crossentropy', metrics=['accuracy'])\n",
    "    return model"
   ]
  },
  {
   "cell_type": "markdown",
   "metadata": {},
   "source": [
    "# Main Code\n",
    "\n",
    "## Data Pre-Processing"
   ]
  },
  {
   "cell_type": "code",
   "execution_count": 7,
   "metadata": {
    "ExecuteTime": {
     "end_time": "2020-08-25T10:24:42.961429Z",
     "start_time": "2020-08-25T10:24:42.319217Z"
    }
   },
   "outputs": [],
   "source": [
    "# load dataset\n",
    "trainX, trainY, testX, testY = load_dataset()\n",
    "# prepare pixel data\n",
    "trainX, testX = prep_pixels(trainX, testX)"
   ]
  },
  {
   "cell_type": "markdown",
   "metadata": {},
   "source": [
    "## Convnet Creation and Training"
   ]
  },
  {
   "cell_type": "code",
   "execution_count": 8,
   "metadata": {
    "ExecuteTime": {
     "end_time": "2020-08-25T10:26:58.000724Z",
     "start_time": "2020-08-25T10:24:42.966260Z"
    }
   },
   "outputs": [
    {
     "name": "stdout",
     "output_type": "stream",
     "text": [
      "Pre Training \n",
      "\n",
      "313/313 [==============================] - 1s 5ms/step - loss: 2.6936 - accuracy: 0.1168\n",
      "Starting Accuracy \t> 11.680\n",
      "\n",
      "TRAINING\n",
      "\n",
      "Epoch 1/4\n",
      "1875/1875 [==============================] - 33s 18ms/step - loss: 0.1204 - accuracy: 0.9629\n",
      "Epoch 2/4\n",
      "1875/1875 [==============================] - 33s 17ms/step - loss: 0.0420 - accuracy: 0.9870\n",
      "Epoch 3/4\n",
      "1875/1875 [==============================] - 33s 17ms/step - loss: 0.0282 - accuracy: 0.9909\n",
      "Epoch 4/4\n",
      "1875/1875 [==============================] - 33s 17ms/step - loss: 0.0192 - accuracy: 0.9938\n",
      "\n",
      "\n",
      "Post Training \n",
      "\n",
      "313/313 [==============================] - 2s 5ms/step - loss: 0.0321 - accuracy: 0.9891\n",
      "Final Accuracy 98.910\n"
     ]
    }
   ],
   "source": [
    "# define model\n",
    "model = define_model()\n",
    "# evaluate model on test dataset\n",
    "\n",
    "print('Pre Training \\n')    \n",
    "\n",
    "err, acc = model.evaluate(testX, testY, verbose=1)\n",
    "print('Starting Accuracy \\t> %.3f' % (acc * 100.0))\n",
    "\n",
    "print('\\nTRAINING\\n')  \n",
    "\n",
    "# fit model\n",
    "model.fit(trainX, trainY, epochs=4, batch_size=32, verbose=1, workers=2)\n",
    " \n",
    "print('\\n\\nPost Training \\n')    \n",
    "\n",
    "# evaluate model on test dataset\n",
    "err, acc = model.evaluate(testX, testY, verbose=1)\n",
    "    \n",
    "print('Final Accuracy %.3f' % (acc * 100.0))\n",
    "\n",
    "# save model\n",
    "model.save('convnet_mnist_twolayers.h5')"
   ]
  },
  {
   "cell_type": "markdown",
   "metadata": {},
   "source": [
    "## Convnet Reloading\n",
    "> In case we need directly the convnet we don't need to retrain the model, but simply load the already trained one."
   ]
  },
  {
   "cell_type": "markdown",
   "metadata": {},
   "source": [
    "### Reload Db and its preparation"
   ]
  },
  {
   "cell_type": "code",
   "execution_count": 9,
   "metadata": {
    "ExecuteTime": {
     "end_time": "2020-08-25T10:26:58.632517Z",
     "start_time": "2020-08-25T10:26:58.004336Z"
    }
   },
   "outputs": [],
   "source": [
    "# load dataset\n",
    "trainX, trainY, testX, testY = load_dataset()\n",
    "# prepare pixel data\n",
    "trainX, testX = prep_pixels(trainX, testX)"
   ]
  },
  {
   "cell_type": "markdown",
   "metadata": {
    "ExecuteTime": {
     "end_time": "2020-08-25T10:11:29.608760Z",
     "start_time": "2020-08-25T10:11:29.605788Z"
    }
   },
   "source": [
    "### Reload Model Convnet"
   ]
  },
  {
   "cell_type": "code",
   "execution_count": 10,
   "metadata": {
    "ExecuteTime": {
     "end_time": "2020-08-25T10:27:00.522879Z",
     "start_time": "2020-08-25T10:26:58.634758Z"
    }
   },
   "outputs": [
    {
     "name": "stdout",
     "output_type": "stream",
     "text": [
      "\n",
      "\n",
      "Check Model \n",
      "\n",
      "313/313 [==============================] - 2s 5ms/step - loss: 0.0307 - accuracy: 0.9904\n",
      "Final Accuracy 99.040\n"
     ]
    }
   ],
   "source": [
    "# load model\n",
    "model = load_model('final_model.h5')\n",
    "\n",
    "print('\\n\\nCheck Model \\n')    \n",
    "\n",
    "# evaluate model on test dataset\n",
    "err, acc = model.evaluate(testX, testY, verbose=1)\n",
    "    \n",
    "print('Final Accuracy %.3f' % (acc * 100.0))"
   ]
  },
  {
   "cell_type": "markdown",
   "metadata": {},
   "source": [
    "## Confusion Matrix\n",
    "\n",
    "It's a tool we use to understand how well our model behaves. \n",
    "\n",
    "I put the results in a df so it's easier to see.\n",
    "\n",
    "### Result Confusion Matrix"
   ]
  },
  {
   "cell_type": "code",
   "execution_count": 40,
   "metadata": {
    "ExecuteTime": {
     "end_time": "2020-08-25T10:36:53.971990Z",
     "start_time": "2020-08-25T10:36:52.687650Z"
    }
   },
   "outputs": [],
   "source": [
    "y_pred = model.predict(testX)\n",
    "matrix = confusion_matrix(testY.argmax(axis=1), y_pred.argmax(axis=1))\n",
    "# I need the total counts of each digits\n",
    "total = np.zeros(10)\n",
    "for i in testY:\n",
    "    total[i.argmax()] += 1\n",
    "results_confusion = pd.DataFrame(matrix)\n",
    "total_element_by_number = total"
   ]
  },
  {
   "cell_type": "code",
   "execution_count": 41,
   "metadata": {
    "ExecuteTime": {
     "end_time": "2020-08-25T10:36:54.628313Z",
     "start_time": "2020-08-25T10:36:54.616160Z"
    }
   },
   "outputs": [
    {
     "data": {
      "text/html": [
       "<div>\n",
       "<style scoped>\n",
       "    .dataframe tbody tr th:only-of-type {\n",
       "        vertical-align: middle;\n",
       "    }\n",
       "\n",
       "    .dataframe tbody tr th {\n",
       "        vertical-align: top;\n",
       "    }\n",
       "\n",
       "    .dataframe thead th {\n",
       "        text-align: right;\n",
       "    }\n",
       "</style>\n",
       "<table border=\"1\" class=\"dataframe\">\n",
       "  <thead>\n",
       "    <tr style=\"text-align: right;\">\n",
       "      <th></th>\n",
       "      <th>0</th>\n",
       "      <th>1</th>\n",
       "      <th>2</th>\n",
       "      <th>3</th>\n",
       "      <th>4</th>\n",
       "      <th>5</th>\n",
       "      <th>6</th>\n",
       "      <th>7</th>\n",
       "      <th>8</th>\n",
       "      <th>9</th>\n",
       "    </tr>\n",
       "  </thead>\n",
       "  <tbody>\n",
       "    <tr>\n",
       "      <th>0</th>\n",
       "      <td>977</td>\n",
       "      <td>0</td>\n",
       "      <td>0</td>\n",
       "      <td>0</td>\n",
       "      <td>0</td>\n",
       "      <td>0</td>\n",
       "      <td>1</td>\n",
       "      <td>1</td>\n",
       "      <td>1</td>\n",
       "      <td>0</td>\n",
       "    </tr>\n",
       "    <tr>\n",
       "      <th>1</th>\n",
       "      <td>0</td>\n",
       "      <td>1128</td>\n",
       "      <td>1</td>\n",
       "      <td>1</td>\n",
       "      <td>2</td>\n",
       "      <td>1</td>\n",
       "      <td>2</td>\n",
       "      <td>0</td>\n",
       "      <td>0</td>\n",
       "      <td>0</td>\n",
       "    </tr>\n",
       "    <tr>\n",
       "      <th>2</th>\n",
       "      <td>0</td>\n",
       "      <td>0</td>\n",
       "      <td>1024</td>\n",
       "      <td>0</td>\n",
       "      <td>1</td>\n",
       "      <td>0</td>\n",
       "      <td>1</td>\n",
       "      <td>4</td>\n",
       "      <td>2</td>\n",
       "      <td>0</td>\n",
       "    </tr>\n",
       "    <tr>\n",
       "      <th>3</th>\n",
       "      <td>0</td>\n",
       "      <td>0</td>\n",
       "      <td>1</td>\n",
       "      <td>1007</td>\n",
       "      <td>0</td>\n",
       "      <td>1</td>\n",
       "      <td>0</td>\n",
       "      <td>0</td>\n",
       "      <td>1</td>\n",
       "      <td>0</td>\n",
       "    </tr>\n",
       "    <tr>\n",
       "      <th>4</th>\n",
       "      <td>0</td>\n",
       "      <td>0</td>\n",
       "      <td>0</td>\n",
       "      <td>0</td>\n",
       "      <td>975</td>\n",
       "      <td>0</td>\n",
       "      <td>3</td>\n",
       "      <td>0</td>\n",
       "      <td>0</td>\n",
       "      <td>4</td>\n",
       "    </tr>\n",
       "    <tr>\n",
       "      <th>5</th>\n",
       "      <td>2</td>\n",
       "      <td>0</td>\n",
       "      <td>0</td>\n",
       "      <td>7</td>\n",
       "      <td>0</td>\n",
       "      <td>879</td>\n",
       "      <td>2</td>\n",
       "      <td>0</td>\n",
       "      <td>0</td>\n",
       "      <td>2</td>\n",
       "    </tr>\n",
       "    <tr>\n",
       "      <th>6</th>\n",
       "      <td>6</td>\n",
       "      <td>2</td>\n",
       "      <td>0</td>\n",
       "      <td>0</td>\n",
       "      <td>1</td>\n",
       "      <td>2</td>\n",
       "      <td>947</td>\n",
       "      <td>0</td>\n",
       "      <td>0</td>\n",
       "      <td>0</td>\n",
       "    </tr>\n",
       "    <tr>\n",
       "      <th>7</th>\n",
       "      <td>0</td>\n",
       "      <td>2</td>\n",
       "      <td>6</td>\n",
       "      <td>3</td>\n",
       "      <td>1</td>\n",
       "      <td>1</td>\n",
       "      <td>0</td>\n",
       "      <td>1007</td>\n",
       "      <td>1</td>\n",
       "      <td>7</td>\n",
       "    </tr>\n",
       "    <tr>\n",
       "      <th>8</th>\n",
       "      <td>4</td>\n",
       "      <td>0</td>\n",
       "      <td>4</td>\n",
       "      <td>3</td>\n",
       "      <td>0</td>\n",
       "      <td>2</td>\n",
       "      <td>0</td>\n",
       "      <td>0</td>\n",
       "      <td>957</td>\n",
       "      <td>4</td>\n",
       "    </tr>\n",
       "    <tr>\n",
       "      <th>9</th>\n",
       "      <td>1</td>\n",
       "      <td>0</td>\n",
       "      <td>0</td>\n",
       "      <td>0</td>\n",
       "      <td>3</td>\n",
       "      <td>1</td>\n",
       "      <td>0</td>\n",
       "      <td>0</td>\n",
       "      <td>1</td>\n",
       "      <td>1003</td>\n",
       "    </tr>\n",
       "  </tbody>\n",
       "</table>\n",
       "</div>"
      ],
      "text/plain": [
       "     0     1     2     3    4    5    6     7    8     9\n",
       "0  977     0     0     0    0    0    1     1    1     0\n",
       "1    0  1128     1     1    2    1    2     0    0     0\n",
       "2    0     0  1024     0    1    0    1     4    2     0\n",
       "3    0     0     1  1007    0    1    0     0    1     0\n",
       "4    0     0     0     0  975    0    3     0    0     4\n",
       "5    2     0     0     7    0  879    2     0    0     2\n",
       "6    6     2     0     0    1    2  947     0    0     0\n",
       "7    0     2     6     3    1    1    0  1007    1     7\n",
       "8    4     0     4     3    0    2    0     0  957     4\n",
       "9    1     0     0     0    3    1    0     0    1  1003"
      ]
     },
     "execution_count": 41,
     "metadata": {},
     "output_type": "execute_result"
    }
   ],
   "source": [
    "results_confusion"
   ]
  },
  {
   "cell_type": "markdown",
   "metadata": {},
   "source": [
    "### Percentage Confusion Matrix"
   ]
  },
  {
   "cell_type": "code",
   "execution_count": 42,
   "metadata": {
    "ExecuteTime": {
     "end_time": "2020-08-25T10:36:56.052059Z",
     "start_time": "2020-08-25T10:36:56.047136Z"
    }
   },
   "outputs": [
    {
     "name": "stdout",
     "output_type": "stream",
     "text": [
      "[ 980. 1135. 1032. 1010.  982.  892.  958. 1028.  974. 1009.]\n"
     ]
    }
   ],
   "source": [
    "print(total_element_by_number)"
   ]
  },
  {
   "cell_type": "code",
   "execution_count": 43,
   "metadata": {
    "ExecuteTime": {
     "end_time": "2020-08-25T10:36:56.637710Z",
     "start_time": "2020-08-25T10:36:56.623205Z"
    }
   },
   "outputs": [],
   "source": [
    "# I take the percentage\n",
    "total /= 100. # I have all this elements\n",
    "matrix = matrix.astype('float32')\n",
    "for i in range(0,10):\n",
    "    matrix[i,:] /= total[i]\n",
    "ConfusionMatrix = pd.DataFrame(matrix)\n",
    "for i in range(10):\n",
    "    ConfusionMatrix[i] = ConfusionMatrix[i].apply(lambda x:np.round(x,3))"
   ]
  },
  {
   "cell_type": "code",
   "execution_count": 44,
   "metadata": {
    "ExecuteTime": {
     "end_time": "2020-08-25T10:36:57.193493Z",
     "start_time": "2020-08-25T10:36:57.176054Z"
    }
   },
   "outputs": [
    {
     "data": {
      "text/html": [
       "<div>\n",
       "<style scoped>\n",
       "    .dataframe tbody tr th:only-of-type {\n",
       "        vertical-align: middle;\n",
       "    }\n",
       "\n",
       "    .dataframe tbody tr th {\n",
       "        vertical-align: top;\n",
       "    }\n",
       "\n",
       "    .dataframe thead th {\n",
       "        text-align: right;\n",
       "    }\n",
       "</style>\n",
       "<table border=\"1\" class=\"dataframe\">\n",
       "  <thead>\n",
       "    <tr style=\"text-align: right;\">\n",
       "      <th></th>\n",
       "      <th>0</th>\n",
       "      <th>1</th>\n",
       "      <th>2</th>\n",
       "      <th>3</th>\n",
       "      <th>4</th>\n",
       "      <th>5</th>\n",
       "      <th>6</th>\n",
       "      <th>7</th>\n",
       "      <th>8</th>\n",
       "      <th>9</th>\n",
       "    </tr>\n",
       "  </thead>\n",
       "  <tbody>\n",
       "    <tr>\n",
       "      <th>0</th>\n",
       "      <td>99.694</td>\n",
       "      <td>0.000</td>\n",
       "      <td>0.000</td>\n",
       "      <td>0.000</td>\n",
       "      <td>0.000</td>\n",
       "      <td>0.000</td>\n",
       "      <td>0.102</td>\n",
       "      <td>0.102</td>\n",
       "      <td>0.102</td>\n",
       "      <td>0.000</td>\n",
       "    </tr>\n",
       "    <tr>\n",
       "      <th>1</th>\n",
       "      <td>0.000</td>\n",
       "      <td>99.383</td>\n",
       "      <td>0.088</td>\n",
       "      <td>0.088</td>\n",
       "      <td>0.176</td>\n",
       "      <td>0.088</td>\n",
       "      <td>0.176</td>\n",
       "      <td>0.000</td>\n",
       "      <td>0.000</td>\n",
       "      <td>0.000</td>\n",
       "    </tr>\n",
       "    <tr>\n",
       "      <th>2</th>\n",
       "      <td>0.000</td>\n",
       "      <td>0.000</td>\n",
       "      <td>99.225</td>\n",
       "      <td>0.000</td>\n",
       "      <td>0.097</td>\n",
       "      <td>0.000</td>\n",
       "      <td>0.097</td>\n",
       "      <td>0.388</td>\n",
       "      <td>0.194</td>\n",
       "      <td>0.000</td>\n",
       "    </tr>\n",
       "    <tr>\n",
       "      <th>3</th>\n",
       "      <td>0.000</td>\n",
       "      <td>0.000</td>\n",
       "      <td>0.099</td>\n",
       "      <td>99.703</td>\n",
       "      <td>0.000</td>\n",
       "      <td>0.099</td>\n",
       "      <td>0.000</td>\n",
       "      <td>0.000</td>\n",
       "      <td>0.099</td>\n",
       "      <td>0.000</td>\n",
       "    </tr>\n",
       "    <tr>\n",
       "      <th>4</th>\n",
       "      <td>0.000</td>\n",
       "      <td>0.000</td>\n",
       "      <td>0.000</td>\n",
       "      <td>0.000</td>\n",
       "      <td>99.287</td>\n",
       "      <td>0.000</td>\n",
       "      <td>0.305</td>\n",
       "      <td>0.000</td>\n",
       "      <td>0.000</td>\n",
       "      <td>0.407</td>\n",
       "    </tr>\n",
       "    <tr>\n",
       "      <th>5</th>\n",
       "      <td>0.224</td>\n",
       "      <td>0.000</td>\n",
       "      <td>0.000</td>\n",
       "      <td>0.785</td>\n",
       "      <td>0.000</td>\n",
       "      <td>98.543</td>\n",
       "      <td>0.224</td>\n",
       "      <td>0.000</td>\n",
       "      <td>0.000</td>\n",
       "      <td>0.224</td>\n",
       "    </tr>\n",
       "    <tr>\n",
       "      <th>6</th>\n",
       "      <td>0.626</td>\n",
       "      <td>0.209</td>\n",
       "      <td>0.000</td>\n",
       "      <td>0.000</td>\n",
       "      <td>0.104</td>\n",
       "      <td>0.209</td>\n",
       "      <td>98.852</td>\n",
       "      <td>0.000</td>\n",
       "      <td>0.000</td>\n",
       "      <td>0.000</td>\n",
       "    </tr>\n",
       "    <tr>\n",
       "      <th>7</th>\n",
       "      <td>0.000</td>\n",
       "      <td>0.195</td>\n",
       "      <td>0.584</td>\n",
       "      <td>0.292</td>\n",
       "      <td>0.097</td>\n",
       "      <td>0.097</td>\n",
       "      <td>0.000</td>\n",
       "      <td>97.957</td>\n",
       "      <td>0.097</td>\n",
       "      <td>0.681</td>\n",
       "    </tr>\n",
       "    <tr>\n",
       "      <th>8</th>\n",
       "      <td>0.411</td>\n",
       "      <td>0.000</td>\n",
       "      <td>0.411</td>\n",
       "      <td>0.308</td>\n",
       "      <td>0.000</td>\n",
       "      <td>0.205</td>\n",
       "      <td>0.000</td>\n",
       "      <td>0.000</td>\n",
       "      <td>98.255</td>\n",
       "      <td>0.411</td>\n",
       "    </tr>\n",
       "    <tr>\n",
       "      <th>9</th>\n",
       "      <td>0.099</td>\n",
       "      <td>0.000</td>\n",
       "      <td>0.000</td>\n",
       "      <td>0.000</td>\n",
       "      <td>0.297</td>\n",
       "      <td>0.099</td>\n",
       "      <td>0.000</td>\n",
       "      <td>0.000</td>\n",
       "      <td>0.099</td>\n",
       "      <td>99.405</td>\n",
       "    </tr>\n",
       "  </tbody>\n",
       "</table>\n",
       "</div>"
      ],
      "text/plain": [
       "        0       1       2       3       4       5       6       7       8  \\\n",
       "0  99.694   0.000   0.000   0.000   0.000   0.000   0.102   0.102   0.102   \n",
       "1   0.000  99.383   0.088   0.088   0.176   0.088   0.176   0.000   0.000   \n",
       "2   0.000   0.000  99.225   0.000   0.097   0.000   0.097   0.388   0.194   \n",
       "3   0.000   0.000   0.099  99.703   0.000   0.099   0.000   0.000   0.099   \n",
       "4   0.000   0.000   0.000   0.000  99.287   0.000   0.305   0.000   0.000   \n",
       "5   0.224   0.000   0.000   0.785   0.000  98.543   0.224   0.000   0.000   \n",
       "6   0.626   0.209   0.000   0.000   0.104   0.209  98.852   0.000   0.000   \n",
       "7   0.000   0.195   0.584   0.292   0.097   0.097   0.000  97.957   0.097   \n",
       "8   0.411   0.000   0.411   0.308   0.000   0.205   0.000   0.000  98.255   \n",
       "9   0.099   0.000   0.000   0.000   0.297   0.099   0.000   0.000   0.099   \n",
       "\n",
       "        9  \n",
       "0   0.000  \n",
       "1   0.000  \n",
       "2   0.000  \n",
       "3   0.000  \n",
       "4   0.407  \n",
       "5   0.224  \n",
       "6   0.000  \n",
       "7   0.681  \n",
       "8   0.411  \n",
       "9  99.405  "
      ]
     },
     "execution_count": 44,
     "metadata": {},
     "output_type": "execute_result"
    }
   ],
   "source": [
    "ConfusionMatrix.head(10)"
   ]
  },
  {
   "cell_type": "markdown",
   "metadata": {},
   "source": [
    "## Total Accuracy"
   ]
  },
  {
   "cell_type": "code",
   "execution_count": 45,
   "metadata": {
    "ExecuteTime": {
     "end_time": "2020-08-25T10:36:58.143070Z",
     "start_time": "2020-08-25T10:36:58.136251Z"
    }
   },
   "outputs": [
    {
     "name": "stdout",
     "output_type": "stream",
     "text": [
      "0 -- 99.694\n",
      "1 -- 99.383\n",
      "2 -- 99.225\n",
      "3 -- 99.703\n",
      "4 -- 99.287\n",
      "5 -- 98.543\n",
      "6 -- 98.852\n",
      "7 -- 97.957\n",
      "8 -- 98.255\n",
      "9 -- 99.405\n"
     ]
    }
   ],
   "source": [
    "# For Each Number\n",
    "for i in range(10):\n",
    "    print(i, end=\" -- \")\n",
    "    print(np.diag(ConfusionMatrix)[i])"
   ]
  },
  {
   "cell_type": "code",
   "execution_count": 46,
   "metadata": {
    "ExecuteTime": {
     "end_time": "2020-08-25T10:36:58.571730Z",
     "start_time": "2020-08-25T10:36:58.567245Z"
    }
   },
   "outputs": [
    {
     "name": "stdout",
     "output_type": "stream",
     "text": [
      "99.0304\n"
     ]
    }
   ],
   "source": [
    "# on the db\n",
    "print(np.average(np.diag(ConfusionMatrix)))"
   ]
  },
  {
   "cell_type": "markdown",
   "metadata": {},
   "source": [
    "## Better Confusion Matrix\n",
    "\n",
    "Here we present a different version of Confusion Matrix"
   ]
  },
  {
   "cell_type": "code",
   "execution_count": 47,
   "metadata": {
    "ExecuteTime": {
     "end_time": "2020-08-25T10:37:01.472363Z",
     "start_time": "2020-08-25T10:36:59.551209Z"
    }
   },
   "outputs": [
    {
     "name": "stdout",
     "output_type": "stream",
     "text": [
      "[ 9.8  11.35 10.32 10.1   9.82  8.92  9.58 10.28  9.74 10.09]\n"
     ]
    },
    {
     "data": {
      "image/png": "[encoded data removed]",
      "text/plain": [
       "<Figure size 864x864 with 1 Axes>"
      ]
     },
     "metadata": {},
     "output_type": "display_data"
    }
   ],
   "source": [
    "import seaborn as sns\n",
    "\n",
    "sns.set(font_scale=1.5)\n",
    "\n",
    "y_preds = model.predict(testX).argmax(axis=1)\n",
    "y_test = testY.argmax(axis=1)\n",
    "\n",
    "\n",
    "\n",
    "def plot_conf_mat(y_test, y_preds):\n",
    "    \"\"\"\n",
    "    Plots a nice looking confusion matrix using Seaborn's Heatmap()\n",
    "    \"\"\"\n",
    "    fig, ax = plt.subplots(figsize=(12, 12))\n",
    "    ax = sns.heatmap(confusion_matrix(y_test, y_preds), \n",
    "                     annot=True, \n",
    "                     cbar=False, \n",
    "                     fmt='g')\n",
    "    plt.xlabel(\"True labels\")\n",
    "    plt.ylabel(\"Predicted Labels\")\n",
    "    \n",
    "plot_conf_mat(y_test, y_preds)\n",
    "\n",
    "print(total_element_by_number)"
   ]
  },
  {
   "cell_type": "code",
   "execution_count": null,
   "metadata": {},
   "outputs": [],
   "source": []
  }
 ],
 "metadata": {
  "kernelspec": {
   "display_name": "Python 3",
   "language": "python",
   "name": "python3"
  },
  "language_info": {
   "codemirror_mode": {
    "name": "ipython",
    "version": 3
   },
   "file_extension": ".py",
   "mimetype": "text/x-python",
   "name": "python",
   "nbconvert_exporter": "python",
   "pygments_lexer": "ipython3",
   "version": "3.8.2"
  },
  "toc": {
   "base_numbering": 1,
   "nav_menu": {},
   "number_sections": true,
   "sideBar": true,
   "skip_h1_title": false,
   "title_cell": "Table of Contents",
   "title_sidebar": "Contents",
   "toc_cell": false,
   "toc_position": {},
   "toc_section_display": true,
   "toc_window_display": true
  }
 },
 "nbformat": 4,
 "nbformat_minor": 4
}
